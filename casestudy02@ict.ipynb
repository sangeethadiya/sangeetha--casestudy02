{
 "cells": [
  {
   "cell_type": "markdown",
   "id": "efd3faef",
   "metadata": {},
   "source": [
    "1. Write a Python function to sum all the numbers in a list. (Create a list and \n",
    "get list elements from user)"
   ]
  },
  {
   "cell_type": "code",
   "execution_count": 55,
   "id": "1c7b6ef4",
   "metadata": {},
   "outputs": [
    {
     "name": "stdout",
     "output_type": "stream",
     "text": [
      "Enter the limit of the list:5\n",
      "enter the 1 element:12\n",
      "enter the 2 element:13\n",
      "enter the 3 element:14\n",
      "enter the 4 element:15\n",
      "enter the 5 element:16\n",
      "[12, 13, 14, 15, 16]\n",
      "The sum of the given list elements is : 70\n"
     ]
    }
   ],
   "source": [
    "li=[]\n",
    "n=int(input(\"Enter the limit of the list:\"))\n",
    "for i in range(1,n+1):\n",
    "    num=int(input(\"enter the {} element:\".format(i)))\n",
    "    li.append(num)\n",
    "print(li)\n",
    "\n",
    "def add(m):\n",
    "    sum=0\n",
    "    for i in m:\n",
    "        sum=sum+i\n",
    "    print(\"The sum of the given list elements is :\",sum)\n",
    "\n",
    "add(li)    \n",
    "    "
   ]
  },
  {
   "cell_type": "markdown",
   "id": "3b1a7b03",
   "metadata": {},
   "source": [
    "2. Write a Python function that checks whether a passed string is \n",
    "palindrome or not."
   ]
  },
  {
   "cell_type": "code",
   "execution_count": 2,
   "id": "50b4e98b",
   "metadata": {},
   "outputs": [
    {
     "name": "stdout",
     "output_type": "stream",
     "text": [
      "Enter the string:amma\n",
      "The entered string is Palindrome:\n"
     ]
    }
   ],
   "source": [
    "s=input(\"Enter the string:\")\n",
    "def palin(s):\n",
    "    s=s.lower()\n",
    "    revs=s[::-1]\n",
    "    if s==revs:\n",
    "        print(\"The entered string is Palindrome:\")\n",
    "    else:\n",
    "        print(\"The entered string is not Palindrome\")\n",
    "        \n",
    "palin(s)\n",
    "    "
   ]
  },
  {
   "cell_type": "markdown",
   "id": "9760a530",
   "metadata": {},
   "source": [
    "3. Write a Python recursive function to find the Fibonacci series. Get the limit \n",
    "from the user"
   ]
  },
  {
   "cell_type": "code",
   "execution_count": 14,
   "id": "f566fc2b",
   "metadata": {},
   "outputs": [
    {
     "name": "stdout",
     "output_type": "stream",
     "text": [
      "Enter the limit of the fibonacci series:8\n",
      "0\n",
      "1\n",
      "1\n",
      "2\n",
      "3\n",
      "5\n",
      "8\n",
      "13\n"
     ]
    }
   ],
   "source": [
    "n=int(input(\"Enter the limit of the fibonacci series:\"))\n",
    "if n<0:print(\"please enter a positive integer:\")\n",
    "else:\n",
    "    for i in range(n):\n",
    "        print(fib(i))\n",
    "def fib(s):\n",
    "    if s<=1:\n",
    "        return(s)\n",
    "    else:\n",
    "        return(fib(s-1)+fib(s-2))\n",
    "        "
   ]
  },
  {
   "cell_type": "markdown",
   "id": "67e98c43",
   "metadata": {},
   "source": [
    "4. Write a Python recursive function to print the multiplication table of \n",
    "given number"
   ]
  },
  {
   "cell_type": "code",
   "execution_count": 6,
   "id": "bbb1a60a",
   "metadata": {},
   "outputs": [
    {
     "name": "stdout",
     "output_type": "stream",
     "text": [
      "enter which multiplication table needed:5\n",
      "5 x 1 = 5\n",
      "5 x 2 = 10\n",
      "5 x 3 = 15\n",
      "5 x 4 = 20\n",
      "5 x 5 = 25\n",
      "5 x 6 = 30\n",
      "5 x 7 = 35\n",
      "5 x 8 = 40\n",
      "5 x 9 = 45\n",
      "5 x 10 = 50\n"
     ]
    }
   ],
   "source": [
    "n=int(input(\"enter which multiplication table needed:\"))\n",
    "def mul(n,i):\n",
    "    if (i>10):return\n",
    "    else:\n",
    "        print(n ,'x', i ,'=',n*i)\n",
    "        return mul(n,i+1)\n",
    "mul(n,1)\n"
   ]
  },
  {
   "cell_type": "markdown",
   "id": "7c9ffbab",
   "metadata": {},
   "source": [
    "5. Define a function which counts vowels and consonant in a word"
   ]
  },
  {
   "cell_type": "code",
   "execution_count": 8,
   "id": "893a1f26",
   "metadata": {},
   "outputs": [
    {
     "name": "stdout",
     "output_type": "stream",
     "text": [
      "enter the word:sangeetha\n",
      "The total vowel count is: 4\n",
      "The total consonant count is: 5\n"
     ]
    }
   ],
   "source": [
    "str=input(\"enter the word:\")\n",
    "str=str.lower()\n",
    "def vowels(n):\n",
    "    vow_count=0\n",
    "    con_count=0\n",
    "    for i in range(0,len(str)):\n",
    "        if str[i] in (\"a\",\"e\",\"i\",\"o\",\"u\"):\n",
    "            vow_count=vow_count+1\n",
    "        elif (str[i]>= 'a' and str[i]<='z'):\n",
    "            con_count=con_count+1\n",
    "    print(\"The total vowel count is:\",vow_count)\n",
    "    print(\"The total consonant count is:\",con_count)\n",
    "vowels(str)\n",
    "    "
   ]
  },
  {
   "cell_type": "markdown",
   "id": "56577e1f",
   "metadata": {},
   "source": [
    "6. Define a function that accepts lowercase words and returns uppercase \n",
    "words."
   ]
  },
  {
   "cell_type": "code",
   "execution_count": 2,
   "id": "cd468788",
   "metadata": {},
   "outputs": [
    {
     "name": "stdout",
     "output_type": "stream",
     "text": [
      "enter the lowercase words:sangeetha\n"
     ]
    },
    {
     "data": {
      "text/plain": [
       "'SANGEETHA'"
      ]
     },
     "execution_count": 2,
     "metadata": {},
     "output_type": "execute_result"
    }
   ],
   "source": [
    "string=input(\"enter the lowercase words:\")\n",
    "def convert(str):\n",
    "    stringnew=string.upper()\n",
    "    return stringnew\n",
    "\n",
    "convert(string)"
   ]
  },
  {
   "cell_type": "markdown",
   "id": "b3bcc7bb",
   "metadata": {},
   "source": [
    "7. Write a Python program to remove ‘None’ values from a given list using \n",
    "the lambda function."
   ]
  },
  {
   "cell_type": "code",
   "execution_count": 12,
   "id": "37cbaee5",
   "metadata": {},
   "outputs": [
    {
     "data": {
      "text/plain": [
       "[12, 23, -55, 234, 89, 6, -12]"
      ]
     },
     "execution_count": 12,
     "metadata": {},
     "output_type": "execute_result"
    }
   ],
   "source": [
    "l=[12, 0, None, 23, None, -55,234, 89, None, 0, 6, -12]\n",
    "list(filter(lambda x:x,l))\n",
    "    "
   ]
  },
  {
   "cell_type": "markdown",
   "id": "84fe4260",
   "metadata": {},
   "source": [
    "Write a Rectangle class in Python language, allowing you to build a \n",
    "rectangle with length and width attributes.\n",
    "a. Create a Perimeter() method to calculate the perimeter of the \n",
    "rectangle and a Area() method to calculate the area of the rectangle\n",
    "\n",
    "b. Create a method display() that display the length, width, perimeter \n",
    "and area of an object created using an instantiation on rectangle \n",
    "class."
   ]
  },
  {
   "cell_type": "code",
   "execution_count": 24,
   "id": "0809b68f",
   "metadata": {},
   "outputs": [
    {
     "name": "stdout",
     "output_type": "stream",
     "text": [
      "The perimeter= 30\n",
      "The area= 50\n"
     ]
    }
   ],
   "source": [
    "class rectangle:\n",
    "    \n",
    "    def __init__(self,l,b):\n",
    "        self.length=l\n",
    "        self.width=b\n",
    "    def perimeter(self):\n",
    "        print(\"The perimeter=\",2*(self.length+self.width))\n",
    "    def area(self):\n",
    "        print(\"The area=\",self.length*self.width)\n",
    "\n",
    "\n",
    "obj=rectangle(10,5)\n",
    "obj.perimeter()\n",
    "obj.area()"
   ]
  },
  {
   "cell_type": "markdown",
   "id": "f5d0f722",
   "metadata": {},
   "source": [
    "b. Create a method display() that display the length, width, perimeter and area of an object created using an instantiation on rectangle class."
   ]
  },
  {
   "cell_type": "code",
   "execution_count": 26,
   "id": "973d5342",
   "metadata": {},
   "outputs": [
    {
     "name": "stdout",
     "output_type": "stream",
     "text": [
      "The length= 10\n",
      "The width= 5\n",
      "The perimeter= 30\n",
      "The area= 50\n"
     ]
    }
   ],
   "source": [
    "class rectangle:\n",
    "    \n",
    "    def __init__(self,l,b):\n",
    "        self.length=l\n",
    "        self.width=b\n",
    "    def display(self):\n",
    "        print(\"The length=\",self.length)\n",
    "        print(\"The width=\",self.width)\n",
    "    def perimeter(self):\n",
    "        print(\"The perimeter=\",2*(self.length+self.width))\n",
    "    def area(self):\n",
    "        print(\"The area=\",self.length*self.width)\n",
    "\n",
    "\n",
    "obj=rectangle(10,5)\n",
    "obj.display()\n",
    "obj.perimeter()\n",
    "obj.area()"
   ]
  },
  {
   "cell_type": "markdown",
   "id": "4bd25b81",
   "metadata": {},
   "source": [
    "c. Create a Parallelepiped child class inheriting from the Rectangle \n",
    "class and with a height attribute and another Volume() method to \n",
    "calculate the volume of the Parallelepiped.\n"
   ]
  },
  {
   "cell_type": "code",
   "execution_count": 54,
   "id": "3baa8252",
   "metadata": {},
   "outputs": [
    {
     "name": "stdout",
     "output_type": "stream",
     "text": [
      "The length= 5\n",
      "The width= 3\n",
      "volume: 105\n"
     ]
    }
   ],
   "source": [
    "class Rectangle:\n",
    "    def __init__(self,l,b):\n",
    "        self.length=l\n",
    "        self.width=b\n",
    "    def display(self):\n",
    "        print(\"The length=\",self.length)\n",
    "        print(\"The width=\",self.width)\n",
    "    def perimeter(self):\n",
    "        print(\"The perimeter=\",2*(self.length+self.width))\n",
    "    def area(self):\n",
    "        print(\"The area=\",self.length*self.width)\n",
    "class Parallelopiped(Rectangle):\n",
    "    def volume(self):\n",
    "        height=7\n",
    "        print(\"volume:\",self.length*self.width*height)\n",
    "\n",
    "d1=Rectangle(13,5)\n",
    "d=Parallelopiped(5,3)\n",
    "d.display()\n",
    "d.volume()\n"
   ]
  },
  {
   "cell_type": "markdown",
   "id": "c778c8ad",
   "metadata": {},
   "source": [
    "9. Create a Python class called BankAccount which represents a bank \n",
    "account, having as attributes: accountNumber (numeric type), name \n",
    "(name of the account owner as string type), balance.\n",
    "a. Create a constructor with parameters: accountNumber, name, \n",
    "balance\n",
    "b. Create a Deposit() method which manages the deposit actions.\n",
    "c. Create a Withdrawal() method which manages withdrawals \n",
    "actions\n",
    "d. Create an bankFees() method to apply the bank fees with a \n",
    "percentage of 5% of the balance account\n",
    "e. Create a display() method to display account details.\n",
    "f. Give the complete code for the BankAccount class."
   ]
  },
  {
   "cell_type": "code",
   "execution_count": 44,
   "id": "9ee053bf",
   "metadata": {},
   "outputs": [
    {
     "name": "stdout",
     "output_type": "stream",
     "text": [
      "The account holder is: sangeetha\n",
      "sangeetha 's account balance is Rs: 1000\n",
      "The bank fees which is 5% of your balance is: 50.0\n",
      "The amount you have withdrawn is: 500\n",
      "The total deposit is: 6000\n"
     ]
    }
   ],
   "source": [
    "class BankAccount:\n",
    "    def __init__(self,accountNumber,name,balance):\n",
    "        self.accountNumber=accountNumber\n",
    "        self.name=name\n",
    "        self.balance=balance\n",
    "    def Deposit(self):\n",
    "        d=5000\n",
    "        print(\"The total deposit is:\",self.balance+d)\n",
    "    def Withdrawl(self):\n",
    "        w=500\n",
    "        print(\"The amount you have withdrawn is:\",w)\n",
    "    def bankFees(self):\n",
    "        b=(self.balance*5)/100\n",
    "        print(\"The bank fees which is 5% of your balance is:\",b)\n",
    "    def display(self):\n",
    "        print(\"The account holder is:\",self.name)\n",
    "        print(self.name,\"'s account balance is Rs:\",self.balance)\n",
    "\n",
    "t=BankAccount(11133,'sangeetha',1000)\n",
    "t.display()\n",
    "t.bankFees()\n",
    "t.Withdrawl()\n",
    "t.Deposit()\n",
    "        \n",
    "    "
   ]
  },
  {
   "cell_type": "markdown",
   "id": "011bd684",
   "metadata": {},
   "source": [
    "10. Create a base class rectangle with attributes length and breadth, methods \n",
    "area and perimeter. \n",
    "a. Save the rectangle class as a python file rectangle.py file. \n",
    "b. Open another python script and import the rectangle.py file. \n",
    "c. In the newly created script derive a child class called Parallelepiped \n",
    "class inheriting from the Rectangle class and with a height attribute \n",
    "and another Volume() method to calculate the volume of the \n",
    "Parallelepiped. \n",
    "d. Now create objects for parent class and child class in newly created \n",
    "script and access methods of parent class and child class. \n",
    "(Upload the rectangle.py file and python script of question 10 as \n",
    "separate files in github and share the link Paatshala"
   ]
  }
 ],
 "metadata": {
  "kernelspec": {
   "display_name": "Python 3 (ipykernel)",
   "language": "python",
   "name": "python3"
  },
  "language_info": {
   "codemirror_mode": {
    "name": "ipython",
    "version": 3
   },
   "file_extension": ".py",
   "mimetype": "text/x-python",
   "name": "python",
   "nbconvert_exporter": "python",
   "pygments_lexer": "ipython3",
   "version": "3.9.13"
  }
 },
 "nbformat": 4,
 "nbformat_minor": 5
}
